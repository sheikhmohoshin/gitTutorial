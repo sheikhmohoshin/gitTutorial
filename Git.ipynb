{
  "nbformat": 4,
  "nbformat_minor": 0,
  "metadata": {
    "colab": {
      "provenance": [],
      "authorship_tag": "ABX9TyMyzCrBiY9SmKRNngLq/a0S",
      "include_colab_link": true
    },
    "kernelspec": {
      "name": "python3",
      "display_name": "Python 3"
    },
    "language_info": {
      "name": "python"
    }
  },
  "cells": [
    {
      "cell_type": "markdown",
      "metadata": {
        "id": "view-in-github",
        "colab_type": "text"
      },
      "source": [
        "<a href=\"https://colab.research.google.com/github/sheikhmohoshin/gitTutorial/blob/main/Git.ipynb\" target=\"_parent\"><img src=\"https://colab.research.google.com/assets/colab-badge.svg\" alt=\"Open In Colab\"/></a>"
      ]
    },
    {
      "cell_type": "code",
      "execution_count": null,
      "metadata": {
        "id": "-y9eG3ZjSq5T"
      },
      "outputs": [],
      "source": [
        "## print the working directory\n",
        "pwd # print working directory\n",
        "\n",
        "Path\n",
        "----\n",
        "C:\\Users\\User\\OneDrive\\Desktop\\ostad_flutter_10\\sheikhmohoshinFlutter10\n",
        "\n",
        "## change directory\n",
        "cd <directory>         # Navigate to a specific directory.\n",
        "cd C:\\Users\\User\\OneDrive\\Desktop\\ostad_flutter_10\n",
        "cd ..                  # Navigate to the parent directory\n",
        "\n",
        "## make directory; Create a new directory mkdir (make folder)\n",
        "mkdir assignment\n",
        "\n",
        "## renaming directory\n",
        "cd C:\\Users\\User\\OneDrive\\Desktop\\ostad_flutter_10\n",
        "Rename-Item -Path \"old_folder\" -NewName \"new_folder\"\n",
        "## Renaming directory\n",
        "cd C:\\Users\\User\\OneDrive\\Desktop\\ostad_flutter_10\n",
        "Rename-Item -Path \"old_folder\" -NewName \"new_folder\"\n",
        "\n",
        "# Delete a local directory\n",
        "## go to the previous directory, you cannot delete a directory inside a directory\n",
        "cd ..\n",
        "\n",
        "## Delete a Directory/File: Windows\n",
        "\n",
        "del <file> used to delete files\n",
        "\n",
        "rmdir /s /q <directory>\n",
        "\n",
        "### Deletes the directory and all its content /s\n",
        "### Deletes without asking for confirmation /q\n",
        "\n",
        "Remove-Item <directory> -Force -Recurse # for Windows PowerShell"
      ]
    },
    {
      "cell_type": "markdown",
      "source": [
        "# Git Configuration\n",
        "Ref: https://www.git-scm.com/book/en/v2/Customizing-Git-Git-Configuration"
      ],
      "metadata": {
        "id": "V8nqM7oSgk-X"
      }
    },
    {
      "cell_type": "code",
      "source": [
        "## For all repositories\n",
        "git config -global user.name \"Your Name\"\n",
        "git config -global user.email \"your@email.com\"\n",
        "\n",
        "git config --global user.email\n",
        "git config --global user.name\n",
        "\n",
        "## For specific repositories\n",
        "cd specific-project-repository\n",
        "git config user.name \"Project user name\"\n",
        "git config user.email \"project@email.com\"\n",
        "\n",
        "# Git token: https://github.blog/2020-12-15-token-authentication-requirements-for-git-operations"
      ],
      "metadata": {
        "id": "5iizKUphfdQC"
      },
      "execution_count": null,
      "outputs": []
    },
    {
      "cell_type": "code",
      "source": [
        "## Change defaultBranch from master to main (as git uses it)\n",
        "git config --global init.defaultBranch main # global\n",
        "git branch -m main # for a particular local repository"
      ],
      "metadata": {
        "id": "XFZSWcL_j-aW"
      },
      "execution_count": null,
      "outputs": []
    },
    {
      "cell_type": "markdown",
      "source": [
        "# Create a Repository\n",
        "  **Start with a local directory**\n",
        "  \n",
        "  Use git init to create a local Git repository\n",
        "  \n",
        "  **Start with a new or existing remote repository**\n",
        "  \n",
        "  Use git clone to make a local copy of the Git repository"
      ],
      "metadata": {
        "id": "PTI4huU5fyRq"
      }
    },
    {
      "cell_type": "code",
      "source": [
        "# Create Local Repository\n",
        "\n",
        "## 01. Initialize Git to create a new local repository\n",
        "# initialize a new Git repository in your project directory\n",
        "git init # turn any folder to local repository\n",
        "   #Display the state of the working directory and the staging area.\n",
        "   # View the status of files, such as whether they are modified or untracked.\n",
        "git status\n",
        "----\n",
        "On branch master\n",
        "No commits yet\n",
        "nothing to commit (create/copy files and use \"git add\" to track)\n",
        "\n",
        "## 02. Stage the file\n",
        "git add -A\n",
        "git add . # add all files\n",
        "\n",
        "git status\n",
        "\n",
        "## 03. commit the file\n",
        "git commit -m \"adding ostad_batch_10-main and assignment folder\"\n",
        "git status\n",
        "----\n",
        "On branch main\n",
        "nothing to commit, working tree clean"
      ],
      "metadata": {
        "id": "CmF5v_CXfv35"
      },
      "execution_count": null,
      "outputs": []
    },
    {
      "cell_type": "code",
      "source": [
        "# Create Remote Repository\n",
        "## for remote repository, git command starts with git remote\n",
        "\n",
        "## Check existing remote URL(s):\n",
        "git remote -v\n",
        "----\n",
        "origin  https://github.com/sheikhmohoshin/testRepo.git (fetch)\n",
        "origin  https://github.com/sheikhmohoshin/testRepo.git (push)\n",
        "origin  https://github.com/sheikhmohoshin/Flutter10_Ostad.git (fetch)\n",
        "origin  https://github.com/sheikhmohoshin/Flutter10_Ostad.git (push)\n",
        "\n",
        "## Update url\n",
        "git remote set-url origin https://github.com/sheikhmohoshin/Flutter10_Ostad.git\n",
        "git remote -v\n",
        "----\n",
        "origin  https://github.com/sheikhmohoshin/Flutter10_Ostad.git (fetch)\n",
        "origin  https://github.com/sheikhmohoshin/Flutter10_Ostad.git (push)\n",
        "# Or\n",
        "## Remove and Re-add the Remote\n",
        "git remote remove origin # Remove the existing \"origin\"\n",
        "git remote add origin https://github.com/sheikhmohoshin/sheikhmohoshinFlutter10.git # add remote repository (origin means remote)\n",
        "git remote -v\n",
        "----\n",
        "origin  https://github.com/sheikhmohoshin/Flutter10_Ostad.git (fetch)\n",
        "origin  https://github.com/sheikhmohoshin/Flutter10_Ostad.git (push)\n",
        "\n"
      ],
      "metadata": {
        "id": "UzzN4OTygDIz"
      },
      "execution_count": null,
      "outputs": []
    },
    {
      "cell_type": "code",
      "source": [
        "## git push\n",
        "git push -u origin main # u means upstream relation\n",
        "branch 'main' set up to track 'origin/main'. # local repository is in sync with origin\n",
        "\n",
        "\n",
        "git pull\n",
        "\n",
        "### Combines two commands\n",
        "### git fetch: retrieves new commits from the remote repo\n",
        "### git merge: updates the local repository with the new commits from the remote repo"
      ],
      "metadata": {
        "id": "e1WWrMyBoTFB"
      },
      "execution_count": null,
      "outputs": []
    },
    {
      "cell_type": "code",
      "source": [
        "# Clone a remote repository\n",
        "\n",
        "git clone <remote URL>\n",
        "\n",
        ". Creates a local copy from the remote repository\n",
        "· Establishes a connection between the local and remote repositories\n",
        "· Sets the upstream relationship for the default branch\n",
        "\n",
        "# Working with an Existing Repository\n",
        "\n",
        "· Working on a team project with an established repository\n",
        "· Contributing to open-source or public projects\n",
        "· Using a project as a starting point for personal work"
      ],
      "metadata": {
        "id": "YqLxBSkJgWlm"
      },
      "execution_count": null,
      "outputs": []
    },
    {
      "cell_type": "code",
      "source": [
        "# Git branch\n",
        "git branch\t# Lists all branches in the repository.\n",
        "git branch -a\t# Lists all local and remote branches.\n",
        "git branch -r\t# Lists all remote branches.\n",
        "\n",
        "git branch -M main # Name the -m branch as master\n",
        "git branch -m master main # Change the -m branch name from master to main\n",
        "git branch <branchName>\t# Creates a new branch with the specified name.\n",
        "\n",
        "git checkout <branch-name>\t# Switches to the specified branch.\n",
        "git checkout -b <new-branch-name>\t# Creates a new branch and switches to it.\n",
        "git checkout — <fileName>\t# Discards changes made to the specified file and revert it to the version in the last commit.\n"
      ],
      "metadata": {
        "id": "viM4DrymjcLt"
      },
      "execution_count": null,
      "outputs": []
    },
    {
      "cell_type": "code",
      "source": [
        "## Merging Branches\n",
        "# To merge a branch into the current branch:\n",
        "git merge <branchName>\n",
        "\n",
        "# If there are conflicts, Git will prompt you to resolve them manually before completing the merge. Once resolved, commit the changes using:\n",
        "git commit -m \"Merged <branch_name> into <current_branch>\"\n",
        "\n",
        "# To abort a merge in case of issues:\n",
        "git merge --abort\n"
      ],
      "metadata": {
        "colab": {
          "base_uri": "https://localhost:8080/",
          "height": 106
        },
        "id": "UNx0HWaki6NB",
        "outputId": "f26c8297-8683-4874-f1a2-72912a04a68f"
      },
      "execution_count": 1,
      "outputs": [
        {
          "output_type": "error",
          "ename": "SyntaxError",
          "evalue": "invalid syntax (<ipython-input-1-676c394ec7ef>, line 1)",
          "traceback": [
            "\u001b[0;36m  File \u001b[0;32m\"<ipython-input-1-676c394ec7ef>\"\u001b[0;36m, line \u001b[0;32m1\u001b[0m\n\u001b[0;31m    Merging Branches\u001b[0m\n\u001b[0m            ^\u001b[0m\n\u001b[0;31mSyntaxError\u001b[0m\u001b[0;31m:\u001b[0m invalid syntax\n"
          ]
        }
      ]
    },
    {
      "cell_type": "code",
      "source": [
        "## Deleting a branch\n",
        "\n",
        "# To delete a local branch:\n",
        "git branch -d <branch_name>\n",
        "\n",
        "# To force delete\n",
        "git branch -D <branch_name>"
      ],
      "metadata": {
        "id": "9k3Q0UkmjK0r"
      },
      "execution_count": null,
      "outputs": []
    },
    {
      "cell_type": "code",
      "source": [
        "##\n",
        "git log\t#Displays the commit history of the current branch.\n",
        "git log <branch-d\t#Displays the commit history of the specified branch.\n",
        "git log –follow <file>\t#Displays the commit history of a file, including its renames.\n",
        "git log –all\t#Displays the commit history of all branches.\n",
        "\n",
        "git stash\t#Stashes the changes in the working directory, allowing you to switch to a different branch or commit without committing the changes.\n",
        "git stash list\t#Lists all stashes in the repository.\n",
        "git stash pop\t#Applies and removes the most recent stash from the stash list.\n",
        "git stash drop\t#emoves the most recent stash from the stash list.\n",
        "\n",
        "git tag\t#Lists all tags in the repository.\n",
        "git tag <tag-name>\t#Creates a lightweight tag at the current commit.\n",
        "git tag <tag-name> <commit>\t#Creates a lightweight tag at the specified commit.\n",
        "git tag -a <tag-name> -m “<message>”\t#Creates an annotated tag at the current commit with a custom message."
      ],
      "metadata": {
        "id": "KZiLx545kPlD"
      },
      "execution_count": null,
      "outputs": []
    }
  ]
}